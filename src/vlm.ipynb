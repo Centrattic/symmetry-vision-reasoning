{
 "cells": [
  {
   "cell_type": "code",
   "execution_count": 1,
   "metadata": {},
   "outputs": [],
   "source": [
    "import torch\n",
    "from transformers import BlipProcessor, BlipForConditionalGeneration, AutoModelForSequenceClassification, AutoTokenizer\n",
    "from trl import PPOTrainer, PPOConfig\n",
    "from transformers import pipeline"
   ]
  },
  {
   "cell_type": "code",
   "execution_count": null,
   "metadata": {},
   "outputs": [],
   "source": [
    "device = \"cuda\" if torch.cuda.is_available() else \"cpu\"\n",
    "processor = BlipProcessor.from_pretrained(\"Salesforce/blip2-opt-2.7b\")\n",
    "model = BlipForConditionalGeneration.from_pretrained(\"Salesforce/blip2-opt-2.7b\").to(device)\n",
    "\n",
    "reward_model_name = \"facebook/opt-2.7b\"  # Change to a smaller model if needed\n",
    "reward_tokenizer = AutoTokenizer.from_pretrained(reward_model_name)\n",
    "reward_model = AutoModelForSequenceClassification.from_pretrained(reward_model_name, num_labels=1).to(device)"
   ]
  },
  {
   "cell_type": "code",
   "execution_count": null,
   "metadata": {},
   "outputs": [],
   "source": [
    "# Dataset: Load in dataset\n",
    "# To be completed\n",
    "\n",
    "def load_image(image_path):\n",
    "    pass\n",
    "\n",
    "dataset = None"
   ]
  },
  {
   "cell_type": "code",
   "execution_count": null,
   "metadata": {},
   "outputs": [],
   "source": [
    "def compute_reward(text_explanation):\n",
    "    inputs = reward_tokenizer(text_explanation, return_tensors=\"pt\", padding=True, truncation=True).to(device)\n",
    "    with torch.no_grad():\n",
    "        reward = reward_model(**inputs).logits.squeeze()\n",
    "    return reward.item()"
   ]
  },
  {
   "cell_type": "code",
   "execution_count": null,
   "metadata": {},
   "outputs": [],
   "source": [
    "config = PPOConfig(\n",
    "    model_name=\"Salesforce/blip2-opt-2.7b\",\n",
    "    learning_rate=1e-5,\n",
    "    batch_size=4,\n",
    "    log_with=\"wandb\",  # Set up Weights & Biases for logging\n",
    ")"
   ]
  },
  {
   "cell_type": "code",
   "execution_count": null,
   "metadata": {},
   "outputs": [],
   "source": [
    "ppo_trainer = PPOTrainer(\n",
    "    model=model,\n",
    "    config=config,\n",
    "    dataset=dataset[\"train\"],\n",
    "    tokenizer=processor.tokenizer,\n",
    ")"
   ]
  },
  {
   "cell_type": "code",
   "execution_count": null,
   "metadata": {},
   "outputs": [],
   "source": [
    "for epoch in range(3):  # Train for 3 epochs\n",
    "    for batch in dataset[\"train\"]:\n",
    "        query_images = batch[\"pixel_values\"]  # ARC input images\n",
    "\n",
    "        # Generate explanations\n",
    "        response = model.generate(input_ids=query_images, max_length=50)\n",
    "\n",
    "        # Compute rewards\n",
    "        reward = compute_reward(processor.tokenizer.decode(response[0]))\n",
    "\n",
    "        # Train PPO\n",
    "        ppo_trainer.step(query_images, response, reward)\n",
    "\n",
    "# Save the trained PPO model\n",
    "model.save_pretrained(\"./arc_blip2_ppo\")\n",
    "processor.save_pretrained(\"./arc_blip2_ppo\")"
   ]
  },
  {
   "cell_type": "code",
   "execution_count": null,
   "metadata": {},
   "outputs": [],
   "source": [
    "query = \"\"\"This image is a logic puzzle that contains input and output examples. Your job is to learn\n",
    "                the transformation between the input and output grids and apply it to the final grid, which has no associated output (appears as a black box).\n",
    "                In addition to the image, I will give you an array representation for all input and output grids seen. This grid is\n",
    "                a rectangular matrix (list of lists) of integers between 0 and 9 (inclusive). The smallest possible grid size is \n",
    "                1x1 and the largest is 30x30.\n",
    "\n",
    "                Your goal is to construct the output grid corresponding to the test input grid. \n",
    "                \"Constructing the output grid\" involves picking the height and width of the output grid, then filling each \n",
    "                cell in the grid with a symbol (integer between 0 and 9, which are visualized as colors). Only exact solutions \n",
    "                (all cells match the expected answer) can be said to be correct. Please output an array representing the output grid.\n",
    "                If you are able to generate images, output an image visualization of the grid.\"\"\""
   ]
  },
  {
   "cell_type": "code",
   "execution_count": null,
   "metadata": {},
   "outputs": [],
   "source": [
    "def solve_arc_task(image_path):\n",
    "    image = load_image(image_path)\n",
    "    inputs = processor(images=image, text=\"What is the transformation?\", return_tensors=\"pt\").to(device)\n",
    "\n",
    "    # Generate explanation\n",
    "    output = model.generate(input_ids=inputs.pixel_values, max_length=50)\n",
    "    explanation = processor.tokenizer.decode(output[0])\n",
    "\n",
    "    return explanation"
   ]
  },
  {
   "cell_type": "code",
   "execution_count": null,
   "metadata": {},
   "outputs": [],
   "source": [
    "print(solve_arc_task(\"path/to/new_arc_problem.png\"))"
   ]
  }
 ],
 "metadata": {
  "kernelspec": {
   "display_name": "Python 3",
   "language": "python",
   "name": "python3"
  },
  "language_info": {
   "codemirror_mode": {
    "name": "ipython",
    "version": 3
   },
   "file_extension": ".py",
   "mimetype": "text/x-python",
   "name": "python",
   "nbconvert_exporter": "python",
   "pygments_lexer": "ipython3",
   "version": "3.11.9"
  }
 },
 "nbformat": 4,
 "nbformat_minor": 2
}
